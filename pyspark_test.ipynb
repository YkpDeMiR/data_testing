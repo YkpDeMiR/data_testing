{
 "cells": [
  {
   "cell_type": "markdown",
   "id": "090c8d4d-4b7b-4b32-aefd-7201803bee4f",
   "metadata": {},
   "source": [
    "# pyspark session "
   ]
  },
  {
   "cell_type": "code",
   "execution_count": 4,
   "id": "d4b8f114-c8bd-4308-a92b-6409368d079c",
   "metadata": {
    "tags": []
   },
   "outputs": [],
   "source": [
    "import pandas as pd\n",
    "import great_expectations as ge\n",
    "from pyspark.sql import SparkSession "
   ]
  },
  {
   "cell_type": "code",
   "execution_count": 5,
   "id": "cb9db9db-1a61-4596-a801-f8d946ed6204",
   "metadata": {
    "tags": []
   },
   "outputs": [
    {
     "name": "stderr",
     "output_type": "stream",
     "text": [
      "Setting default log level to \"WARN\".\n",
      "To adjust logging level use sc.setLogLevel(newLevel). For SparkR, use setLogLevel(newLevel).\n",
      "24/01/15 15:15:08 WARN NativeCodeLoader: Unable to load native-hadoop library for your platform... using builtin-java classes where applicable\n"
     ]
    }
   ],
   "source": [
    "spark=SparkSession.builder.getOrCreate()"
   ]
  },
  {
   "cell_type": "code",
   "execution_count": 6,
   "id": "00b37179-1ce5-4cf1-b7f9-181a4bacd950",
   "metadata": {
    "tags": []
   },
   "outputs": [],
   "source": [
    "data=[\n",
    "     {'cathegory':'A', 'ID':101, 'Price':300, 'Status':True},\n",
    "     {'cathegory':'B', 'ID':102, 'Price':400, 'Status':False},\n",
    "     {'cathegory':'C', 'ID':103, 'Price':500, 'Status':None},\n",
    "     {'cathegory':'D', 'ID':104, 'Price':600, 'Status':True}\n",
    "     ]"
   ]
  },
  {
   "cell_type": "markdown",
   "id": "9e98428e-768e-4a6d-964a-1157ae7c5c4b",
   "metadata": {},
   "source": [
    "# pandas data frame"
   ]
  },
  {
   "cell_type": "code",
   "execution_count": 10,
   "id": "db8911cd-e7f1-4005-a297-b3ccff0380f6",
   "metadata": {
    "tags": []
   },
   "outputs": [],
   "source": [
    "pd_df=pd.DataFrame.from_dict(data)\n"
   ]
  },
  {
   "cell_type": "code",
   "execution_count": 11,
   "id": "120fa07d-cdd8-4c2f-bfae-671b65351459",
   "metadata": {
    "tags": []
   },
   "outputs": [
    {
     "data": {
      "text/html": [
       "<div>\n",
       "<style scoped>\n",
       "    .dataframe tbody tr th:only-of-type {\n",
       "        vertical-align: middle;\n",
       "    }\n",
       "\n",
       "    .dataframe tbody tr th {\n",
       "        vertical-align: top;\n",
       "    }\n",
       "\n",
       "    .dataframe thead th {\n",
       "        text-align: right;\n",
       "    }\n",
       "</style>\n",
       "<table border=\"1\" class=\"dataframe\">\n",
       "  <thead>\n",
       "    <tr style=\"text-align: right;\">\n",
       "      <th></th>\n",
       "      <th>cathegory</th>\n",
       "      <th>ID</th>\n",
       "      <th>Price</th>\n",
       "      <th>Status</th>\n",
       "    </tr>\n",
       "  </thead>\n",
       "  <tbody>\n",
       "    <tr>\n",
       "      <th>0</th>\n",
       "      <td>A</td>\n",
       "      <td>101</td>\n",
       "      <td>300</td>\n",
       "      <td>True</td>\n",
       "    </tr>\n",
       "    <tr>\n",
       "      <th>1</th>\n",
       "      <td>B</td>\n",
       "      <td>102</td>\n",
       "      <td>400</td>\n",
       "      <td>False</td>\n",
       "    </tr>\n",
       "    <tr>\n",
       "      <th>2</th>\n",
       "      <td>C</td>\n",
       "      <td>103</td>\n",
       "      <td>500</td>\n",
       "      <td>None</td>\n",
       "    </tr>\n",
       "    <tr>\n",
       "      <th>3</th>\n",
       "      <td>D</td>\n",
       "      <td>104</td>\n",
       "      <td>600</td>\n",
       "      <td>True</td>\n",
       "    </tr>\n",
       "  </tbody>\n",
       "</table>\n",
       "</div>"
      ],
      "text/plain": [
       "  cathegory   ID  Price Status\n",
       "0         A  101    300   True\n",
       "1         B  102    400  False\n",
       "2         C  103    500   None\n",
       "3         D  104    600   True"
      ]
     },
     "execution_count": 11,
     "metadata": {},
     "output_type": "execute_result"
    }
   ],
   "source": [
    "pd_df"
   ]
  },
  {
   "cell_type": "markdown",
   "id": "ed09726b-e5e2-4576-8e19-0d821081ce39",
   "metadata": {},
   "source": [
    "# spark data frame from pandas df "
   ]
  },
  {
   "cell_type": "code",
   "execution_count": 13,
   "id": "3fd48650-9aa1-4c00-bc55-8a7900050a74",
   "metadata": {
    "tags": []
   },
   "outputs": [],
   "source": [
    "sdf=spark.createDataFrame(pd_df)"
   ]
  },
  {
   "cell_type": "code",
   "execution_count": 14,
   "id": "9602d759-a24b-40cc-affc-60579a58a02f",
   "metadata": {
    "tags": []
   },
   "outputs": [
    {
     "data": {
      "text/plain": [
       "DataFrame[cathegory: string, ID: bigint, Price: bigint, Status: boolean]"
      ]
     },
     "execution_count": 14,
     "metadata": {},
     "output_type": "execute_result"
    }
   ],
   "source": [
    "sdf"
   ]
  },
  {
   "cell_type": "code",
   "execution_count": 15,
   "id": "355daf92-8d42-4db0-8859-a2c6add22b78",
   "metadata": {
    "tags": []
   },
   "outputs": [
    {
     "name": "stderr",
     "output_type": "stream",
     "text": [
      "                                                                                \r"
     ]
    },
    {
     "name": "stdout",
     "output_type": "stream",
     "text": [
      "+---------+---+-----+------+\n",
      "|cathegory| ID|Price|Status|\n",
      "+---------+---+-----+------+\n",
      "|        A|101|  300|  true|\n",
      "|        B|102|  400| false|\n",
      "|        C|103|  500|  NULL|\n",
      "|        D|104|  600|  true|\n",
      "+---------+---+-----+------+\n",
      "\n"
     ]
    }
   ],
   "source": [
    "sdf.show()"
   ]
  },
  {
   "cell_type": "markdown",
   "id": "3117e629-933e-4207-9bdb-c74441b7e993",
   "metadata": {},
   "source": [
    "# great_axpectation data frame from pandas df"
   ]
  },
  {
   "cell_type": "code",
   "execution_count": 16,
   "id": "549cb47b-e6ec-41b6-b8c1-94570212bcd0",
   "metadata": {
    "tags": []
   },
   "outputs": [],
   "source": [
    "ge_pd_df=ge.from_pandas(pd_df)"
   ]
  },
  {
   "cell_type": "code",
   "execution_count": 17,
   "id": "eae2742c-9542-4d1e-8202-abeaaf9df46e",
   "metadata": {
    "tags": []
   },
   "outputs": [
    {
     "data": {
      "text/html": [
       "<div>\n",
       "<style scoped>\n",
       "    .dataframe tbody tr th:only-of-type {\n",
       "        vertical-align: middle;\n",
       "    }\n",
       "\n",
       "    .dataframe tbody tr th {\n",
       "        vertical-align: top;\n",
       "    }\n",
       "\n",
       "    .dataframe thead th {\n",
       "        text-align: right;\n",
       "    }\n",
       "</style>\n",
       "<table border=\"1\" class=\"dataframe\">\n",
       "  <thead>\n",
       "    <tr style=\"text-align: right;\">\n",
       "      <th></th>\n",
       "      <th>cathegory</th>\n",
       "      <th>ID</th>\n",
       "      <th>Price</th>\n",
       "      <th>Status</th>\n",
       "    </tr>\n",
       "  </thead>\n",
       "  <tbody>\n",
       "    <tr>\n",
       "      <th>0</th>\n",
       "      <td>A</td>\n",
       "      <td>101</td>\n",
       "      <td>300</td>\n",
       "      <td>True</td>\n",
       "    </tr>\n",
       "    <tr>\n",
       "      <th>1</th>\n",
       "      <td>B</td>\n",
       "      <td>102</td>\n",
       "      <td>400</td>\n",
       "      <td>False</td>\n",
       "    </tr>\n",
       "    <tr>\n",
       "      <th>2</th>\n",
       "      <td>C</td>\n",
       "      <td>103</td>\n",
       "      <td>500</td>\n",
       "      <td>None</td>\n",
       "    </tr>\n",
       "    <tr>\n",
       "      <th>3</th>\n",
       "      <td>D</td>\n",
       "      <td>104</td>\n",
       "      <td>600</td>\n",
       "      <td>True</td>\n",
       "    </tr>\n",
       "  </tbody>\n",
       "</table>\n",
       "</div>"
      ],
      "text/plain": [
       "  cathegory   ID  Price Status\n",
       "0         A  101    300   True\n",
       "1         B  102    400  False\n",
       "2         C  103    500   None\n",
       "3         D  104    600   True"
      ]
     },
     "execution_count": 17,
     "metadata": {},
     "output_type": "execute_result"
    }
   ],
   "source": [
    "ge_pd_df"
   ]
  },
  {
   "cell_type": "markdown",
   "id": "08ab6be1-77a0-400c-ae89-2f6b75f28369",
   "metadata": {},
   "source": [
    "# ge object from spark data frame"
   ]
  },
  {
   "cell_type": "code",
   "execution_count": 18,
   "id": "4317c124-4d4a-4268-8c6c-275648384247",
   "metadata": {
    "tags": []
   },
   "outputs": [],
   "source": [
    "ge_sdf=ge.dataset.SparkDFDataset(sdf)"
   ]
  },
  {
   "cell_type": "code",
   "execution_count": 19,
   "id": "a4c7c825-6bdf-4552-a8d5-844e8c64188f",
   "metadata": {
    "tags": []
   },
   "outputs": [
    {
     "data": {
      "text/plain": [
       "<great_expectations.dataset.sparkdf_dataset.SparkDFDataset at 0x177bc4490>"
      ]
     },
     "execution_count": 19,
     "metadata": {},
     "output_type": "execute_result"
    }
   ],
   "source": [
    "ge_sdf"
   ]
  },
  {
   "cell_type": "code",
   "execution_count": 22,
   "id": "82f0aba0-f9c7-47e0-8bbc-fd7ccf81d33c",
   "metadata": {
    "tags": []
   },
   "outputs": [
    {
     "data": {
      "text/plain": [
       "{\n",
       "  \"success\": false,\n",
       "  \"result\": {\n",
       "    \"element_count\": 4,\n",
       "    \"unexpected_count\": 1,\n",
       "    \"unexpected_percent\": 25.0,\n",
       "    \"unexpected_percent_total\": 25.0,\n",
       "    \"partial_unexpected_list\": [\n",
       "      null\n",
       "    ]\n",
       "  },\n",
       "  \"meta\": {},\n",
       "  \"exception_info\": {\n",
       "    \"raised_exception\": false,\n",
       "    \"exception_traceback\": null,\n",
       "    \"exception_message\": null\n",
       "  }\n",
       "}"
      ]
     },
     "execution_count": 22,
     "metadata": {},
     "output_type": "execute_result"
    }
   ],
   "source": [
    "ge_sdf.expect_column_values_to_not_be_null('Status')"
   ]
  },
  {
   "cell_type": "code",
   "execution_count": 24,
   "id": "cc41c985-7c43-4943-a394-dc0383ebd8e8",
   "metadata": {
    "tags": []
   },
   "outputs": [
    {
     "data": {
      "text/plain": [
       "{\n",
       "  \"success\": true,\n",
       "  \"result\": {\n",
       "    \"element_count\": 4,\n",
       "    \"missing_count\": 0,\n",
       "    \"missing_percent\": 0.0,\n",
       "    \"unexpected_count\": 0,\n",
       "    \"unexpected_percent\": 0.0,\n",
       "    \"unexpected_percent_total\": 0.0,\n",
       "    \"unexpected_percent_nonmissing\": 0.0,\n",
       "    \"partial_unexpected_list\": []\n",
       "  },\n",
       "  \"meta\": {},\n",
       "  \"exception_info\": {\n",
       "    \"raised_exception\": false,\n",
       "    \"exception_traceback\": null,\n",
       "    \"exception_message\": null\n",
       "  }\n",
       "}"
      ]
     },
     "execution_count": 24,
     "metadata": {},
     "output_type": "execute_result"
    }
   ],
   "source": [
    "ge_sdf.expect_column_values_to_be_between('Price', 300, 600)"
   ]
  },
  {
   "cell_type": "code",
   "execution_count": 26,
   "id": "b07ea354-b671-41f0-a7bb-f08cbeab9480",
   "metadata": {
    "tags": []
   },
   "outputs": [
    {
     "data": {
      "text/plain": [
       "{\n",
       "  \"success\": true,\n",
       "  \"result\": {},\n",
       "  \"meta\": {},\n",
       "  \"exception_info\": {\n",
       "    \"raised_exception\": false,\n",
       "    \"exception_traceback\": null,\n",
       "    \"exception_message\": null\n",
       "  }\n",
       "}"
      ]
     },
     "execution_count": 26,
     "metadata": {},
     "output_type": "execute_result"
    }
   ],
   "source": [
    "ge_sdf.expect_column_to_exist('ID')"
   ]
  },
  {
   "cell_type": "code",
   "execution_count": 27,
   "id": "8eeb9f3c-dbc9-409f-bc34-773a53143b06",
   "metadata": {
    "tags": []
   },
   "outputs": [
    {
     "data": {
      "text/plain": [
       "4"
      ]
     },
     "execution_count": 27,
     "metadata": {},
     "output_type": "execute_result"
    }
   ],
   "source": [
    "sdf.count()"
   ]
  },
  {
   "cell_type": "code",
   "execution_count": 28,
   "id": "fdf673f7-757a-41ce-93ef-d8e314480b2a",
   "metadata": {
    "tags": []
   },
   "outputs": [
    {
     "ename": "AttributeError",
     "evalue": "'SparkDFDataset' object has no attribute 'count'",
     "output_type": "error",
     "traceback": [
      "\u001b[0;31m---------------------------------------------------------------------------\u001b[0m",
      "\u001b[0;31mAttributeError\u001b[0m                            Traceback (most recent call last)",
      "Cell \u001b[0;32mIn[28], line 1\u001b[0m\n\u001b[0;32m----> 1\u001b[0m ge_sdf\u001b[38;5;241m.\u001b[39mcount()\n",
      "\u001b[0;31mAttributeError\u001b[0m: 'SparkDFDataset' object has no attribute 'count'"
     ]
    }
   ],
   "source": [
    "ge_sdf.count()"
   ]
  },
  {
   "cell_type": "code",
   "execution_count": 29,
   "id": "e06a6e75-f361-4d9a-8cae-de7813bb66ba",
   "metadata": {
    "tags": []
   },
   "outputs": [
    {
     "data": {
      "text/plain": [
       "4"
      ]
     },
     "execution_count": 29,
     "metadata": {},
     "output_type": "execute_result"
    }
   ],
   "source": [
    "ge_sdf.spark_df.count()"
   ]
  },
  {
   "cell_type": "code",
   "execution_count": null,
   "id": "60219329-5c59-49ab-b9c3-0eefe5401eef",
   "metadata": {},
   "outputs": [],
   "source": []
  }
 ],
 "metadata": {
  "kernelspec": {
   "display_name": "Python 3 (ipykernel)",
   "language": "python",
   "name": "python3"
  },
  "language_info": {
   "codemirror_mode": {
    "name": "ipython",
    "version": 3
   },
   "file_extension": ".py",
   "mimetype": "text/x-python",
   "name": "python",
   "nbconvert_exporter": "python",
   "pygments_lexer": "ipython3",
   "version": "3.11.5"
  }
 },
 "nbformat": 4,
 "nbformat_minor": 5
}
